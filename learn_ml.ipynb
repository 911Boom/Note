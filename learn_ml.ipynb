{
 "cells": [
  {
   "cell_type": "code",
   "execution_count": 15,
   "outputs": [
    {
     "name": "stdout",
     "output_type": "stream",
     "text": [
      "int64\n",
      "int64\n",
      "object\n",
      "float64\n",
      "int64\n",
      "object\n",
      "object\n",
      "object\n",
      "object\n",
      "object\n",
      "object\n",
      "object\n",
      "object\n",
      "object\n",
      "object\n",
      "object\n",
      "object\n",
      "int64\n",
      "int64\n",
      "int64\n",
      "int64\n",
      "object\n",
      "object\n",
      "object\n",
      "object\n",
      "object\n",
      "float64\n",
      "object\n",
      "object\n",
      "object\n",
      "object\n",
      "object\n",
      "object\n",
      "object\n",
      "int64\n",
      "object\n",
      "int64\n",
      "int64\n",
      "int64\n",
      "object\n",
      "object\n",
      "object\n",
      "object\n",
      "int64\n",
      "int64\n",
      "int64\n",
      "int64\n",
      "int64\n",
      "int64\n",
      "int64\n",
      "int64\n",
      "int64\n",
      "int64\n",
      "object\n",
      "int64\n",
      "object\n",
      "int64\n",
      "object\n",
      "object\n",
      "float64\n",
      "object\n",
      "int64\n",
      "int64\n",
      "object\n",
      "object\n",
      "object\n",
      "int64\n",
      "int64\n",
      "int64\n",
      "int64\n",
      "int64\n",
      "int64\n",
      "object\n",
      "object\n",
      "object\n",
      "int64\n",
      "int64\n",
      "int64\n",
      "object\n",
      "object\n",
      "int64\n"
     ]
    }
   ],
   "source": [
    "import pandas as pd\n",
    "from sklearn.model_selection import train_test_split\n",
    "\n",
    "data = pd.read_csv('../Note/home-data-for-ml-course/train.csv')\n",
    "\n",
    "for col in data.columns:\n",
    "    print(data[col].dtype)\n"
   ],
   "metadata": {
    "collapsed": false,
    "ExecuteTime": {
     "end_time": "2023-06-02T08:52:00.907861Z",
     "start_time": "2023-06-02T08:52:00.878530300Z"
    }
   }
  },
  {
   "cell_type": "code",
   "execution_count": 18,
   "outputs": [
    {
     "name": "stdout",
     "output_type": "stream",
     "text": [
      "Help on function train_test_split in module sklearn.model_selection._split:\n",
      "\n",
      "train_test_split(*arrays, test_size=None, train_size=None, random_state=None, shuffle=True, stratify=None)\n",
      "    Split arrays or matrices into random train and test subsets.\n",
      "    \n",
      "    Quick utility that wraps input validation and\n",
      "    ``next(ShuffleSplit().split(X, y))`` and application to input data\n",
      "    into a single call for splitting (and optionally subsampling) data in a\n",
      "    oneliner.\n",
      "    \n",
      "    Read more in the :ref:`User Guide <cross_validation>`.\n",
      "    \n",
      "    Parameters\n",
      "    ----------\n",
      "    *arrays : sequence of indexables with same length / shape[0]\n",
      "        Allowed inputs are lists, numpy arrays, scipy-sparse\n",
      "        matrices or pandas dataframes.\n",
      "    \n",
      "    test_size : float or int, default=None\n",
      "        If float, should be between 0.0 and 1.0 and represent the proportion\n",
      "        of the dataset to include in the test split. If int, represents the\n",
      "        absolute number of test samples. If None, the value is set to the\n",
      "        complement of the train size. If ``train_size`` is also None, it will\n",
      "        be set to 0.25.\n",
      "    \n",
      "    train_size : float or int, default=None\n",
      "        If float, should be between 0.0 and 1.0 and represent the\n",
      "        proportion of the dataset to include in the train split. If\n",
      "        int, represents the absolute number of train samples. If None,\n",
      "        the value is automatically set to the complement of the test size.\n",
      "    \n",
      "    random_state : int, RandomState instance or None, default=None\n",
      "        Controls the shuffling applied to the data before applying the split.\n",
      "        Pass an int for reproducible output across multiple function calls.\n",
      "        See :term:`Glossary <random_state>`.\n",
      "    \n",
      "    shuffle : bool, default=True\n",
      "        Whether or not to shuffle the data before splitting. If shuffle=False\n",
      "        then stratify must be None.\n",
      "    \n",
      "    stratify : array-like, default=None\n",
      "        If not None, data is split in a stratified fashion, using this as\n",
      "        the class labels.\n",
      "        Read more in the :ref:`User Guide <stratification>`.\n",
      "    \n",
      "    Returns\n",
      "    -------\n",
      "    splitting : list, length=2 * len(arrays)\n",
      "        List containing train-test split of inputs.\n",
      "    \n",
      "        .. versionadded:: 0.16\n",
      "            If the input is sparse, the output will be a\n",
      "            ``scipy.sparse.csr_matrix``. Else, output type is the same as the\n",
      "            input type.\n",
      "    \n",
      "    Examples\n",
      "    --------\n",
      "    >>> import numpy as np\n",
      "    >>> from sklearn.model_selection import train_test_split\n",
      "    >>> X, y = np.arange(10).reshape((5, 2)), range(5)\n",
      "    >>> X\n",
      "    array([[0, 1],\n",
      "           [2, 3],\n",
      "           [4, 5],\n",
      "           [6, 7],\n",
      "           [8, 9]])\n",
      "    >>> list(y)\n",
      "    [0, 1, 2, 3, 4]\n",
      "    \n",
      "    >>> X_train, X_test, y_train, y_test = train_test_split(\n",
      "    ...     X, y, test_size=0.33, random_state=42)\n",
      "    ...\n",
      "    >>> X_train\n",
      "    array([[4, 5],\n",
      "           [0, 1],\n",
      "           [6, 7]])\n",
      "    >>> y_train\n",
      "    [2, 0, 3]\n",
      "    >>> X_test\n",
      "    array([[2, 3],\n",
      "           [8, 9]])\n",
      "    >>> y_test\n",
      "    [1, 4]\n",
      "    \n",
      "    >>> train_test_split(y, shuffle=False)\n",
      "    [[0, 1, 2], [3, 4]]\n",
      "\n"
     ]
    }
   ],
   "source": [
    "help(train_test_split)"
   ],
   "metadata": {
    "collapsed": false,
    "ExecuteTime": {
     "end_time": "2023-06-02T08:54:56.558710200Z",
     "start_time": "2023-06-02T08:54:56.544049600Z"
    }
   }
  },
  {
   "cell_type": "markdown",
   "source": [
    "# 关于train_test_split\n",
    "## 1. train_size\n",
    "train_size: float, int, or None (default is None)\n",
    "    If float, should be between 0.0 and 1.0 and represent the proportion\n",
    "    of the dataset to include in the train split. If int, represents the\n",
    "    absolute number of train samples. If None, the value is automatically\n",
    "    set to the complement of the test size.\n",
    "## 2. test_size\n",
    "test_size: float, int, or None (default is None)\n",
    "    If float, should be between 0.0 and 1.0 and represent the proportion\n",
    "    of the dataset to include in the test split. If int, represents the\n",
    "    absolute number of test samples. If None, the value is automatically\n",
    "    set to the complement of the train size.\n",
    "## 3. random_state\n",
    "random_state: int, RandomState instance or None (default is None)\n",
    "    Controls the shuffling applied to the data before applying the split.\n",
    "    Pass an int for reproducible output across multiple function calls.\n",
    "    See :term:`Glossary <random_state>`.\n",
    "## 4. shuffle\n",
    "shuffle: bool (default is True)\n",
    "    Whether or not to shuffle the data before splitting. If shuffle=False\n",
    "    then stratify must be None.\n",
    "## 5. stratify\n",
    "stratify: array-like or None (default is None)\n",
    "    If not None, data is split in a stratified fashion, using this as\n",
    "    the class labels.\n",
    "## 6. 返回值\n",
    "    X_train, X_test, y_train, y_test"
   ],
   "metadata": {
    "collapsed": false
   }
  },
  {
   "cell_type": "markdown",
   "source": [
    "### 关于stratify的例子\n",
    "假设我们有一个数据集，其中y是一个二元分类变量，有0和1两个值，其中0占25%，1占75%。如果我们不使用stratify参数，随机划分训练集和测试集，可能会出现训练集或测试集中某个类别缺失或比例失衡的情况。1\n",
    "\n",
    "为了避免这种情况，我们可以使用stratify=y参数，让train_test_split按照y的类别比例进行分层划分。这样可以保证训练集和测试集中0和1的比例都是25%和75%。2\n",
    "\n",
    "具体的代码如下：\n"
   ],
   "metadata": {
    "collapsed": false
   }
  },
  {
   "cell_type": "code",
   "execution_count": null,
   "outputs": [],
   "source": [
    "from sklearn.model_selection import train_test_split\n",
    "# 假设X是特征矩阵，y是标签向量\n",
    "X_train, X_test, y_train, y_test = train_test_split(X, y, test_size=0.33, random_state=42, stratify=y)"
   ],
   "metadata": {
    "collapsed": false
   }
  },
  {
   "cell_type": "markdown",
   "source": [
    "这样，我们就得到了按照y的类别比例进行分层划分的训练集和测试集。"
   ],
   "metadata": {
    "collapsed": false
   }
  },
  {
   "cell_type": "code",
   "execution_count": 16,
   "outputs": [],
   "source": [
    "y=data.SalePrice\n",
    "melb_predictors = data.drop(['SalePrice'], axis=1)\n",
    "X = melb_predictors.select_dtypes(exclude=['object']) # 删除所有类型为object的列\n",
    "X_train, X_valid, y_train, y_valid = train_test_split(X, y, train_size=0.8, test_size=0.2,random_state=0)"
   ],
   "metadata": {
    "collapsed": false,
    "ExecuteTime": {
     "end_time": "2023-06-02T08:52:02.499850800Z",
     "start_time": "2023-06-02T08:52:02.477479900Z"
    }
   }
  },
  {
   "cell_type": "markdown",
   "source": [
    "# Missing Values\n",
    "在ml中如何处理缺失值\n",
    "## 1. 删除含有缺失值的列\n",
    "这种方法会丢失大量的可用信息，如果缺失值占比较大，可以考虑删除"
   ],
   "metadata": {
    "collapsed": false
   }
  },
  {
   "cell_type": "code",
   "execution_count": null,
   "outputs": [],
   "source": [],
   "metadata": {
    "collapsed": false
   }
  }
 ],
 "metadata": {
  "kernelspec": {
   "display_name": "Python 3",
   "language": "python",
   "name": "python3"
  },
  "language_info": {
   "codemirror_mode": {
    "name": "ipython",
    "version": 2
   },
   "file_extension": ".py",
   "mimetype": "text/x-python",
   "name": "python",
   "nbconvert_exporter": "python",
   "pygments_lexer": "ipython2",
   "version": "2.7.6"
  }
 },
 "nbformat": 4,
 "nbformat_minor": 0
}
